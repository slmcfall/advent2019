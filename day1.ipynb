{
 "cells": [
  {
   "cell_type": "code",
   "execution_count": 2,
   "metadata": {},
   "outputs": [],
   "source": [
    "import math"
   ]
  },
  {
   "cell_type": "code",
   "execution_count": 13,
   "metadata": {},
   "outputs": [],
   "source": [
    "class SpaceCraft:\n",
    "    \n",
    "    def __init__(self):\n",
    "        self.fuel = None"
   ]
  },
  {
   "cell_type": "code",
   "execution_count": 15,
   "metadata": {},
   "outputs": [],
   "source": [
    "super_sled = SpaceCraft()"
   ]
  },
  {
   "cell_type": "markdown",
   "metadata": {},
   "source": [
    "### Part 1"
   ]
  },
  {
   "cell_type": "code",
   "execution_count": 3,
   "metadata": {},
   "outputs": [],
   "source": [
    "def get_mod_fuel(mass):\n",
    "    fuel = math.trunc(mass/3)-2\n",
    "    return fuel"
   ]
  },
  {
   "cell_type": "code",
   "execution_count": 4,
   "metadata": {},
   "outputs": [],
   "source": [
    "mm = open('modules_mass.txt')\n",
    "mm_list = mm.readlines()\n",
    "mm_list = [int(i) for i in mm_list]"
   ]
  },
  {
   "cell_type": "code",
   "execution_count": 5,
   "metadata": {},
   "outputs": [],
   "source": [
    "total_fuel = 0\n",
    "for item in mm_list:\n",
    "    total_fuel += get_mod_fuel(item)"
   ]
  },
  {
   "cell_type": "code",
   "execution_count": 6,
   "metadata": {},
   "outputs": [
    {
     "data": {
      "text/plain": [
       "3402609"
      ]
     },
     "execution_count": 6,
     "metadata": {},
     "output_type": "execute_result"
    }
   ],
   "source": [
    "total_fuel"
   ]
  },
  {
   "cell_type": "markdown",
   "metadata": {},
   "source": [
    "### Part 2"
   ]
  },
  {
   "cell_type": "code",
   "execution_count": 29,
   "metadata": {},
   "outputs": [],
   "source": [
    "total_fuel = 0\n",
    "for item in mm_list:\n",
    "    # module fuel\n",
    "    total_fuel += get_mod_fuel(item)\n",
    "\n",
    "    # fuel's fuel, and so forth\n",
    "    mod_fuel = get_mod_fuel(item)\n",
    "    while mod_fuel > 5:\n",
    "        total_fuel += get_mod_fuel(mod_fuel)\n",
    "        mod_fuel = get_mod_fuel(mod_fuel)"
   ]
  }
 ],
 "metadata": {
  "kernelspec": {
   "display_name": "Python [conda env:a19] *",
   "language": "python",
   "name": "conda-env-a19-py"
  },
  "language_info": {
   "codemirror_mode": {
    "name": "ipython",
    "version": 3
   },
   "file_extension": ".py",
   "mimetype": "text/x-python",
   "name": "python",
   "nbconvert_exporter": "python",
   "pygments_lexer": "ipython3",
   "version": "3.7.5"
  }
 },
 "nbformat": 4,
 "nbformat_minor": 2
}
