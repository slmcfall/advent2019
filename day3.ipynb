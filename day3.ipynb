{
 "cells": [
  {
   "cell_type": "markdown",
   "metadata": {},
   "source": [
    "## Part 1"
   ]
  },
  {
   "cell_type": "markdown",
   "metadata": {},
   "source": [
    "### Six Digits, Within Defined Range"
   ]
  },
  {
   "cell_type": "code",
   "execution_count": 73,
   "metadata": {},
   "outputs": [
    {
     "name": "stdout",
     "output_type": "stream",
     "text": [
      "234208 765869\n"
     ]
    }
   ],
   "source": [
    "# get range of numbers\n",
    "vals = list(range(234208,765870))\n",
    "print (min(vals), max(vals))"
   ]
  },
  {
   "cell_type": "markdown",
   "metadata": {},
   "source": [
    "### Adjacent Pair Equality/Asending or Equal Value"
   ]
  },
  {
   "cell_type": "code",
   "execution_count": 9,
   "metadata": {},
   "outputs": [],
   "source": [
    "val = 122345\n",
    "\n",
    "val_expl = [int(d) for d in str(val)]"
   ]
  },
  {
   "cell_type": "code",
   "execution_count": 10,
   "metadata": {},
   "outputs": [
    {
     "data": {
      "text/plain": [
       "[0, 1, 2, 3, 4]"
      ]
     },
     "execution_count": 10,
     "metadata": {},
     "output_type": "execute_result"
    }
   ],
   "source": [
    "list(range(0,5))"
   ]
  },
  {
   "cell_type": "markdown",
   "metadata": {},
   "source": [
    "### Solution"
   ]
  },
  {
   "cell_type": "code",
   "execution_count": 98,
   "metadata": {},
   "outputs": [],
   "source": [
    "pwds = vals.copy()\n",
    "pwd_solutions = []\n",
    "\n",
    "for index, pwd in enumerate(pwds):\n",
    "    \n",
    "    equality_flag = False\n",
    "    ascend_flag   = True\n",
    "    \n",
    "    pwd_expl = [int(d) for d in str(pwd)]\n",
    "    for position in list(range(0,5)):\n",
    "        \n",
    "        first = pwd_expl[position]\n",
    "        second = pwd_expl[position+1]\n",
    "        \n",
    "        if first == second:\n",
    "            equality_flag = True\n",
    "            \n",
    "        if first > second:\n",
    "            ascend_flag = False\n",
    "    \n",
    "    if equality_flag is True and ascend_flag is True:\n",
    "        pwd_solutions.append(pwd)"
   ]
  },
  {
   "cell_type": "code",
   "execution_count": 99,
   "metadata": {},
   "outputs": [
    {
     "data": {
      "text/plain": [
       "1246"
      ]
     },
     "execution_count": 99,
     "metadata": {},
     "output_type": "execute_result"
    }
   ],
   "source": [
    "len(pwd_solutions)"
   ]
  },
  {
   "cell_type": "markdown",
   "metadata": {},
   "source": [
    "## Part 2"
   ]
  },
  {
   "cell_type": "code",
   "execution_count": 109,
   "metadata": {},
   "outputs": [
    {
     "name": "stdout",
     "output_type": "stream",
     "text": [
      "112233 error\n",
      "123444 flag\n",
      "123444 error\n",
      "111122 flag\n",
      "111122 flag\n",
      "111122 error\n",
      "444667 flag\n"
     ]
    }
   ],
   "source": [
    "pwds = vals.copy()\n",
    "#pwds = [122345,111123,223450,123789,234208,234209,234211]\n",
    "#pwds = [234209,234567,111111]\n",
    "pwds = [112233,123444,111122,444667]\n",
    "pwd_solutions = []\n",
    "\n",
    "for index, pwd in enumerate(pwds):\n",
    "    \n",
    "    equality_flag = False\n",
    "    ascend_flag   = True\n",
    "    \n",
    "    pair_match_cnt = 0\n",
    "    \n",
    "    pwd_expl = [int(d) for d in str(pwd)]\n",
    "    for position in list(range(0,5)):\n",
    "        \n",
    "        first = pwd_expl[position]\n",
    "        second = pwd_expl[position+1]\n",
    "        \n",
    "        if first == second:\n",
    "            equality_flag = True\n",
    "            \n",
    "            try:\n",
    "                third = pwd_expl[position+2]\n",
    "                if second == third:\n",
    "                    equality_flag = False\n",
    "                    print(pwd, \"flag\")\n",
    "            except:\n",
    "                print(pwd,\"error\")\n",
    "                \n",
    "            \n",
    "        if first > second:\n",
    "            ascend_flag = False\n",
    "    \n",
    "    if equality_flag is True and ascend_flag is True:\n",
    "        pwd_solutions.append(pwd)"
   ]
  },
  {
   "cell_type": "code",
   "execution_count": 110,
   "metadata": {},
   "outputs": [
    {
     "data": {
      "text/plain": [
       "[444667]"
      ]
     },
     "execution_count": 110,
     "metadata": {},
     "output_type": "execute_result"
    }
   ],
   "source": [
    "pwd_solutions"
   ]
  },
  {
   "cell_type": "code",
   "execution_count": null,
   "metadata": {},
   "outputs": [],
   "source": []
  }
 ],
 "metadata": {
  "kernelspec": {
   "display_name": "Python [conda env:a19] *",
   "language": "python",
   "name": "conda-env-a19-py"
  },
  "language_info": {
   "codemirror_mode": {
    "name": "ipython",
    "version": 3
   },
   "file_extension": ".py",
   "mimetype": "text/x-python",
   "name": "python",
   "nbconvert_exporter": "python",
   "pygments_lexer": "ipython3",
   "version": "3.7.5"
  }
 },
 "nbformat": 4,
 "nbformat_minor": 2
}
